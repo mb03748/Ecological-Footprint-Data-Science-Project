{
  "nbformat": 4,
  "nbformat_minor": 0,
  "metadata": {
    "colab": {
      "name": "ProjModel.ipynb",
      "provenance": [],
      "collapsed_sections": []
    },
    "kernelspec": {
      "name": "python3",
      "display_name": "Python 3"
    }
  },
  "cells": [
    {
      "cell_type": "code",
      "metadata": {
        "colab": {
          "base_uri": "https://localhost:8080/",
          "height": 195
        },
        "id": "YIDB3NK4s5Za",
        "outputId": "88cdc38e-9340-4160-aff2-b9b5ff0a2d75"
      },
      "source": [
        "import pandas as pd\n",
        "import matplotlib.pyplot as plt\n",
        "import seaborn as sns\n",
        "\n",
        "data = pd.read_csv('NFA_2018_Edition.csv', sep = ',')\n",
        "\n",
        "data.sample(5)"
      ],
      "execution_count": 2,
      "outputs": [
        {
          "output_type": "execute_result",
          "data": {
            "text/html": [
              "<div>\n",
              "<style scoped>\n",
              "    .dataframe tbody tr th:only-of-type {\n",
              "        vertical-align: middle;\n",
              "    }\n",
              "\n",
              "    .dataframe tbody tr th {\n",
              "        vertical-align: top;\n",
              "    }\n",
              "\n",
              "    .dataframe thead th {\n",
              "        text-align: right;\n",
              "    }\n",
              "</style>\n",
              "<table border=\"1\" class=\"dataframe\">\n",
              "  <thead>\n",
              "    <tr style=\"text-align: right;\">\n",
              "      <th></th>\n",
              "      <th>country</th>\n",
              "      <th>year</th>\n",
              "      <th>country_code</th>\n",
              "      <th>record</th>\n",
              "      <th>crop_land</th>\n",
              "      <th>grazing_land</th>\n",
              "      <th>forest_land</th>\n",
              "      <th>fishing_ground</th>\n",
              "      <th>built_up_land</th>\n",
              "      <th>carbon</th>\n",
              "      <th>total</th>\n",
              "      <th>QScore</th>\n",
              "    </tr>\n",
              "  </thead>\n",
              "  <tbody>\n",
              "    <tr>\n",
              "      <th>13379</th>\n",
              "      <td>Costa Rica</td>\n",
              "      <td>1987</td>\n",
              "      <td>48</td>\n",
              "      <td>BiocapTotGHA</td>\n",
              "      <td>1.425918e+06</td>\n",
              "      <td>2.316724e+06</td>\n",
              "      <td>2.883242e+06</td>\n",
              "      <td>579558.441600</td>\n",
              "      <td>226120.959700</td>\n",
              "      <td>0.000000</td>\n",
              "      <td>7.431563e+06</td>\n",
              "      <td>3A</td>\n",
              "    </tr>\n",
              "    <tr>\n",
              "      <th>17840</th>\n",
              "      <td>El Salvador</td>\n",
              "      <td>1985</td>\n",
              "      <td>60</td>\n",
              "      <td>AreaPerCap</td>\n",
              "      <td>1.220775e-01</td>\n",
              "      <td>1.557155e-01</td>\n",
              "      <td>8.025970e-02</td>\n",
              "      <td>0.372795</td>\n",
              "      <td>0.020475</td>\n",
              "      <td>0.000000</td>\n",
              "      <td>7.513235e-01</td>\n",
              "      <td>3A</td>\n",
              "    </tr>\n",
              "    <tr>\n",
              "      <th>16119</th>\n",
              "      <td>Dominica</td>\n",
              "      <td>2008</td>\n",
              "      <td>55</td>\n",
              "      <td>EFProdTotGHA</td>\n",
              "      <td>NaN</td>\n",
              "      <td>NaN</td>\n",
              "      <td>NaN</td>\n",
              "      <td>NaN</td>\n",
              "      <td>NaN</td>\n",
              "      <td>NaN</td>\n",
              "      <td>9.388040e+04</td>\n",
              "      <td>2B</td>\n",
              "    </tr>\n",
              "    <tr>\n",
              "      <th>8004</th>\n",
              "      <td>Myanmar</td>\n",
              "      <td>1983</td>\n",
              "      <td>28</td>\n",
              "      <td>EFConsPerCap</td>\n",
              "      <td>4.001270e-01</td>\n",
              "      <td>8.610456e-03</td>\n",
              "      <td>2.247410e-01</td>\n",
              "      <td>0.024042</td>\n",
              "      <td>0.046194</td>\n",
              "      <td>0.057164</td>\n",
              "      <td>7.608790e-01</td>\n",
              "      <td>3A</td>\n",
              "    </tr>\n",
              "    <tr>\n",
              "      <th>17990</th>\n",
              "      <td>El Salvador</td>\n",
              "      <td>2003</td>\n",
              "      <td>60</td>\n",
              "      <td>EFProdPerCap</td>\n",
              "      <td>2.567199e-01</td>\n",
              "      <td>1.537483e-01</td>\n",
              "      <td>3.585331e-01</td>\n",
              "      <td>0.064788</td>\n",
              "      <td>0.043321</td>\n",
              "      <td>0.367699</td>\n",
              "      <td>1.244810e+00</td>\n",
              "      <td>3A</td>\n",
              "    </tr>\n",
              "  </tbody>\n",
              "</table>\n",
              "</div>"
            ],
            "text/plain": [
              "           country  year  country_code  ...    carbon         total  QScore\n",
              "13379   Costa Rica  1987            48  ...  0.000000  7.431563e+06      3A\n",
              "17840  El Salvador  1985            60  ...  0.000000  7.513235e-01      3A\n",
              "16119     Dominica  2008            55  ...       NaN  9.388040e+04      2B\n",
              "8004       Myanmar  1983            28  ...  0.057164  7.608790e-01      3A\n",
              "17990  El Salvador  2003            60  ...  0.367699  1.244810e+00      3A\n",
              "\n",
              "[5 rows x 12 columns]"
            ]
          },
          "metadata": {
            "tags": []
          },
          "execution_count": 2
        }
      ]
    },
    {
      "cell_type": "code",
      "metadata": {
        "colab": {
          "base_uri": "https://localhost:8080/"
        },
        "id": "Cy6gAjknwkoX",
        "outputId": "1ef0fc31-8426-471b-9c5b-3c3a54a536df"
      },
      "source": [
        "cleanData = data.dropna(axis=0, thresh=7)\n",
        "print(cleanData.isna().sum())"
      ],
      "execution_count": null,
      "outputs": [
        {
          "output_type": "stream",
          "text": [
            "country           0\n",
            "year              0\n",
            "country_code      0\n",
            "record            0\n",
            "crop_land         0\n",
            "grazing_land      0\n",
            "forest_land       0\n",
            "fishing_ground    0\n",
            "built_up_land     0\n",
            "carbon            0\n",
            "total             0\n",
            "QScore            0\n",
            "dtype: int64\n"
          ],
          "name": "stdout"
        }
      ]
    },
    {
      "cell_type": "code",
      "metadata": {
        "colab": {
          "base_uri": "https://localhost:8080/",
          "height": 195
        },
        "id": "L4MNJtqXtxPb",
        "outputId": "5fbeec87-51d9-42da-9250-15cb0fdf7d03"
      },
      "source": [
        "# data = data.drop([data.columns[QScore], data.columns[13]], axis=1)\n",
        "\n",
        "modelData = cleanData[['year', 'country', 'country_code', 'record', 'crop_land', 'grazing_land', 'forest_land', 'fishing_ground', 'built_up_land', 'carbon', 'total']]\n",
        "# modelData['year'] = pd.to_datetime(modelData['year'], format='%Y')\n",
        "# modelData = modelData.groupby('record')\n",
        "# EF = modelData.get_group('EFConsTotGHA')\n",
        "EF = modelData.loc[modelData['record'] == \"EFConsTotGHA\"]\n",
        "BC = modelData.loc[modelData['record'] == \"BiocapTotGHA\"]\n",
        "\n",
        "EF = EF.drop(columns=['record', 'country', 'total'], axis=1) #include total?\n",
        "\n",
        "# modelData.head(5)\n",
        "EF.head(5)\n",
        "# print(test.shape)\n",
        "# print(EF.dtypes)"
      ],
      "execution_count": null,
      "outputs": [
        {
          "output_type": "execute_result",
          "data": {
            "text/html": [
              "<div>\n",
              "<style scoped>\n",
              "    .dataframe tbody tr th:only-of-type {\n",
              "        vertical-align: middle;\n",
              "    }\n",
              "\n",
              "    .dataframe tbody tr th {\n",
              "        vertical-align: top;\n",
              "    }\n",
              "\n",
              "    .dataframe thead th {\n",
              "        text-align: right;\n",
              "    }\n",
              "</style>\n",
              "<table border=\"1\" class=\"dataframe\">\n",
              "  <thead>\n",
              "    <tr style=\"text-align: right;\">\n",
              "      <th></th>\n",
              "      <th>year</th>\n",
              "      <th>country_code</th>\n",
              "      <th>crop_land</th>\n",
              "      <th>grazing_land</th>\n",
              "      <th>forest_land</th>\n",
              "      <th>fishing_ground</th>\n",
              "      <th>built_up_land</th>\n",
              "      <th>carbon</th>\n",
              "    </tr>\n",
              "  </thead>\n",
              "  <tbody>\n",
              "    <tr>\n",
              "      <th>5</th>\n",
              "      <td>1992</td>\n",
              "      <td>1</td>\n",
              "      <td>1348487.313</td>\n",
              "      <td>6.524291e+05</td>\n",
              "      <td>4.327841</td>\n",
              "      <td>14272.803690</td>\n",
              "      <td>116139.5982</td>\n",
              "      <td>3836620.482</td>\n",
              "    </tr>\n",
              "    <tr>\n",
              "      <th>13</th>\n",
              "      <td>1993</td>\n",
              "      <td>1</td>\n",
              "      <td>1302751.210</td>\n",
              "      <td>6.764587e+05</td>\n",
              "      <td>36.034083</td>\n",
              "      <td>12858.191160</td>\n",
              "      <td>107720.2388</td>\n",
              "      <td>1803706.047</td>\n",
              "    </tr>\n",
              "    <tr>\n",
              "      <th>21</th>\n",
              "      <td>1994</td>\n",
              "      <td>1</td>\n",
              "      <td>1465650.720</td>\n",
              "      <td>1.044384e+06</td>\n",
              "      <td>76.861362</td>\n",
              "      <td>12389.700890</td>\n",
              "      <td>103552.5070</td>\n",
              "      <td>1045113.056</td>\n",
              "    </tr>\n",
              "    <tr>\n",
              "      <th>29</th>\n",
              "      <td>1995</td>\n",
              "      <td>1</td>\n",
              "      <td>1225971.655</td>\n",
              "      <td>6.324350e+05</td>\n",
              "      <td>54.385847</td>\n",
              "      <td>12654.898940</td>\n",
              "      <td>101521.3116</td>\n",
              "      <td>1341419.248</td>\n",
              "    </tr>\n",
              "    <tr>\n",
              "      <th>37</th>\n",
              "      <td>1996</td>\n",
              "      <td>1</td>\n",
              "      <td>1401538.065</td>\n",
              "      <td>7.083242e+05</td>\n",
              "      <td>70.623342</td>\n",
              "      <td>9615.560349</td>\n",
              "      <td>112371.3847</td>\n",
              "      <td>1062101.600</td>\n",
              "    </tr>\n",
              "  </tbody>\n",
              "</table>\n",
              "</div>"
            ],
            "text/plain": [
              "    year  country_code    crop_land  ...  fishing_ground  built_up_land       carbon\n",
              "5   1992             1  1348487.313  ...    14272.803690    116139.5982  3836620.482\n",
              "13  1993             1  1302751.210  ...    12858.191160    107720.2388  1803706.047\n",
              "21  1994             1  1465650.720  ...    12389.700890    103552.5070  1045113.056\n",
              "29  1995             1  1225971.655  ...    12654.898940    101521.3116  1341419.248\n",
              "37  1996             1  1401538.065  ...     9615.560349    112371.3847  1062101.600\n",
              "\n",
              "[5 rows x 8 columns]"
            ]
          },
          "metadata": {
            "tags": []
          },
          "execution_count": 28
        }
      ]
    },
    {
      "cell_type": "code",
      "metadata": {
        "colab": {
          "base_uri": "https://localhost:8080/",
          "height": 511
        },
        "id": "-gK2zuTI6MeI",
        "outputId": "cac9093f-12a4-4995-8a0b-019cdc44dc6a"
      },
      "source": [
        "EF.loc[:,'carbonLastYear'] = EF.loc[:,'carbon'].shift()\n",
        "\n",
        "EF.loc[:,'carbonLastYear_Diff'] = EF.loc[:,'carbonLastYear'].diff()\n",
        "EF = EF.dropna()\n",
        "\n",
        "EF['carbon2Years'] = EF['carbonLastYear'].shift()\n",
        "\n",
        "EF['carbon2Years_Diff'] = EF['carbon2Years'].diff()\n",
        "\n",
        "EF = EF.dropna()\n",
        "EF.head(15)"
      ],
      "execution_count": null,
      "outputs": [
        {
          "output_type": "execute_result",
          "data": {
            "text/html": [
              "<div>\n",
              "<style scoped>\n",
              "    .dataframe tbody tr th:only-of-type {\n",
              "        vertical-align: middle;\n",
              "    }\n",
              "\n",
              "    .dataframe tbody tr th {\n",
              "        vertical-align: top;\n",
              "    }\n",
              "\n",
              "    .dataframe thead th {\n",
              "        text-align: right;\n",
              "    }\n",
              "</style>\n",
              "<table border=\"1\" class=\"dataframe\">\n",
              "  <thead>\n",
              "    <tr style=\"text-align: right;\">\n",
              "      <th></th>\n",
              "      <th>year</th>\n",
              "      <th>country_code</th>\n",
              "      <th>crop_land</th>\n",
              "      <th>grazing_land</th>\n",
              "      <th>forest_land</th>\n",
              "      <th>fishing_ground</th>\n",
              "      <th>built_up_land</th>\n",
              "      <th>carbon</th>\n",
              "      <th>carbonLastYear</th>\n",
              "      <th>carbonLastYear_Diff</th>\n",
              "      <th>carbon2Years</th>\n",
              "      <th>carbon2Years_Diff</th>\n",
              "    </tr>\n",
              "  </thead>\n",
              "  <tbody>\n",
              "    <tr>\n",
              "      <th>37</th>\n",
              "      <td>1996</td>\n",
              "      <td>1</td>\n",
              "      <td>1401538.065</td>\n",
              "      <td>708324.2224</td>\n",
              "      <td>70.623342</td>\n",
              "      <td>9615.560349</td>\n",
              "      <td>112371.38470</td>\n",
              "      <td>1062101.600</td>\n",
              "      <td>1341419.248</td>\n",
              "      <td>296306.192</td>\n",
              "      <td>1045113.056</td>\n",
              "      <td>-758592.991</td>\n",
              "    </tr>\n",
              "    <tr>\n",
              "      <th>45</th>\n",
              "      <td>1997</td>\n",
              "      <td>1</td>\n",
              "      <td>1252058.972</td>\n",
              "      <td>810575.7136</td>\n",
              "      <td>29595.696130</td>\n",
              "      <td>10846.558920</td>\n",
              "      <td>89286.04608</td>\n",
              "      <td>1285325.937</td>\n",
              "      <td>1062101.600</td>\n",
              "      <td>-279317.648</td>\n",
              "      <td>1341419.248</td>\n",
              "      <td>296306.192</td>\n",
              "    </tr>\n",
              "    <tr>\n",
              "      <th>53</th>\n",
              "      <td>1998</td>\n",
              "      <td>1</td>\n",
              "      <td>1443882.421</td>\n",
              "      <td>668051.8320</td>\n",
              "      <td>6424.069023</td>\n",
              "      <td>14859.152820</td>\n",
              "      <td>111575.11510</td>\n",
              "      <td>1346444.523</td>\n",
              "      <td>1285325.937</td>\n",
              "      <td>223224.337</td>\n",
              "      <td>1062101.600</td>\n",
              "      <td>-279317.648</td>\n",
              "    </tr>\n",
              "    <tr>\n",
              "      <th>61</th>\n",
              "      <td>1999</td>\n",
              "      <td>1</td>\n",
              "      <td>1181533.256</td>\n",
              "      <td>618857.7347</td>\n",
              "      <td>7130.826522</td>\n",
              "      <td>20483.664950</td>\n",
              "      <td>107416.22260</td>\n",
              "      <td>1611430.089</td>\n",
              "      <td>1346444.523</td>\n",
              "      <td>61118.586</td>\n",
              "      <td>1285325.937</td>\n",
              "      <td>223224.337</td>\n",
              "    </tr>\n",
              "    <tr>\n",
              "      <th>69</th>\n",
              "      <td>2000</td>\n",
              "      <td>1</td>\n",
              "      <td>1259829.829</td>\n",
              "      <td>614842.2641</td>\n",
              "      <td>44356.729720</td>\n",
              "      <td>27022.891050</td>\n",
              "      <td>91050.15164</td>\n",
              "      <td>1482757.150</td>\n",
              "      <td>1611430.089</td>\n",
              "      <td>264985.566</td>\n",
              "      <td>1346444.523</td>\n",
              "      <td>61118.586</td>\n",
              "    </tr>\n",
              "    <tr>\n",
              "      <th>77</th>\n",
              "      <td>2001</td>\n",
              "      <td>1</td>\n",
              "      <td>1328215.733</td>\n",
              "      <td>618067.4233</td>\n",
              "      <td>118700.480700</td>\n",
              "      <td>25569.157370</td>\n",
              "      <td>119014.41380</td>\n",
              "      <td>1535548.327</td>\n",
              "      <td>1482757.150</td>\n",
              "      <td>-128672.939</td>\n",
              "      <td>1611430.089</td>\n",
              "      <td>264985.566</td>\n",
              "    </tr>\n",
              "    <tr>\n",
              "      <th>85</th>\n",
              "      <td>2002</td>\n",
              "      <td>1</td>\n",
              "      <td>1436799.874</td>\n",
              "      <td>653870.9060</td>\n",
              "      <td>66851.079760</td>\n",
              "      <td>29871.620720</td>\n",
              "      <td>126593.04490</td>\n",
              "      <td>1449511.435</td>\n",
              "      <td>1535548.327</td>\n",
              "      <td>52791.177</td>\n",
              "      <td>1482757.150</td>\n",
              "      <td>-128672.939</td>\n",
              "    </tr>\n",
              "    <tr>\n",
              "      <th>93</th>\n",
              "      <td>2003</td>\n",
              "      <td>1</td>\n",
              "      <td>1307967.318</td>\n",
              "      <td>694975.0832</td>\n",
              "      <td>82025.776330</td>\n",
              "      <td>25475.087680</td>\n",
              "      <td>111268.62070</td>\n",
              "      <td>1626392.048</td>\n",
              "      <td>1449511.435</td>\n",
              "      <td>-86036.892</td>\n",
              "      <td>1535548.327</td>\n",
              "      <td>52791.177</td>\n",
              "    </tr>\n",
              "    <tr>\n",
              "      <th>101</th>\n",
              "      <td>2004</td>\n",
              "      <td>1</td>\n",
              "      <td>1607245.130</td>\n",
              "      <td>722762.1857</td>\n",
              "      <td>115050.665200</td>\n",
              "      <td>32724.381990</td>\n",
              "      <td>142071.08430</td>\n",
              "      <td>1747333.287</td>\n",
              "      <td>1626392.048</td>\n",
              "      <td>176880.613</td>\n",
              "      <td>1449511.435</td>\n",
              "      <td>-86036.892</td>\n",
              "    </tr>\n",
              "    <tr>\n",
              "      <th>109</th>\n",
              "      <td>2005</td>\n",
              "      <td>1</td>\n",
              "      <td>1670779.000</td>\n",
              "      <td>706841.8118</td>\n",
              "      <td>106050.229500</td>\n",
              "      <td>67476.947820</td>\n",
              "      <td>158755.15180</td>\n",
              "      <td>2061492.216</td>\n",
              "      <td>1747333.287</td>\n",
              "      <td>120941.239</td>\n",
              "      <td>1626392.048</td>\n",
              "      <td>176880.613</td>\n",
              "    </tr>\n",
              "    <tr>\n",
              "      <th>117</th>\n",
              "      <td>2006</td>\n",
              "      <td>1</td>\n",
              "      <td>1434167.071</td>\n",
              "      <td>768584.6374</td>\n",
              "      <td>176026.460600</td>\n",
              "      <td>33999.876290</td>\n",
              "      <td>120178.93300</td>\n",
              "      <td>2230725.309</td>\n",
              "      <td>2061492.216</td>\n",
              "      <td>314158.929</td>\n",
              "      <td>1747333.287</td>\n",
              "      <td>120941.239</td>\n",
              "    </tr>\n",
              "    <tr>\n",
              "      <th>125</th>\n",
              "      <td>2007</td>\n",
              "      <td>1</td>\n",
              "      <td>2033304.134</td>\n",
              "      <td>645927.8365</td>\n",
              "      <td>175574.386400</td>\n",
              "      <td>31558.862540</td>\n",
              "      <td>167252.37930</td>\n",
              "      <td>2585403.931</td>\n",
              "      <td>2230725.309</td>\n",
              "      <td>169233.093</td>\n",
              "      <td>2061492.216</td>\n",
              "      <td>314158.929</td>\n",
              "    </tr>\n",
              "    <tr>\n",
              "      <th>133</th>\n",
              "      <td>2008</td>\n",
              "      <td>1</td>\n",
              "      <td>1847534.046</td>\n",
              "      <td>861694.7742</td>\n",
              "      <td>786202.478500</td>\n",
              "      <td>38453.035610</td>\n",
              "      <td>161074.20910</td>\n",
              "      <td>2967807.776</td>\n",
              "      <td>2585403.931</td>\n",
              "      <td>354678.622</td>\n",
              "      <td>2230725.309</td>\n",
              "      <td>169233.093</td>\n",
              "    </tr>\n",
              "    <tr>\n",
              "      <th>141</th>\n",
              "      <td>2009</td>\n",
              "      <td>1</td>\n",
              "      <td>1779593.250</td>\n",
              "      <td>708131.3823</td>\n",
              "      <td>743465.007100</td>\n",
              "      <td>33421.112960</td>\n",
              "      <td>155076.21700</td>\n",
              "      <td>2334087.028</td>\n",
              "      <td>2967807.776</td>\n",
              "      <td>382403.845</td>\n",
              "      <td>2585403.931</td>\n",
              "      <td>354678.622</td>\n",
              "    </tr>\n",
              "    <tr>\n",
              "      <th>149</th>\n",
              "      <td>2010</td>\n",
              "      <td>1</td>\n",
              "      <td>1580790.779</td>\n",
              "      <td>637982.0898</td>\n",
              "      <td>844544.594800</td>\n",
              "      <td>22216.652550</td>\n",
              "      <td>119625.97660</td>\n",
              "      <td>2322241.240</td>\n",
              "      <td>2334087.028</td>\n",
              "      <td>-633720.748</td>\n",
              "      <td>2967807.776</td>\n",
              "      <td>382403.845</td>\n",
              "    </tr>\n",
              "  </tbody>\n",
              "</table>\n",
              "</div>"
            ],
            "text/plain": [
              "     year  country_code  ...  carbon2Years  carbon2Years_Diff\n",
              "37   1996             1  ...   1045113.056        -758592.991\n",
              "45   1997             1  ...   1341419.248         296306.192\n",
              "53   1998             1  ...   1062101.600        -279317.648\n",
              "61   1999             1  ...   1285325.937         223224.337\n",
              "69   2000             1  ...   1346444.523          61118.586\n",
              "77   2001             1  ...   1611430.089         264985.566\n",
              "85   2002             1  ...   1482757.150        -128672.939\n",
              "93   2003             1  ...   1535548.327          52791.177\n",
              "101  2004             1  ...   1449511.435         -86036.892\n",
              "109  2005             1  ...   1626392.048         176880.613\n",
              "117  2006             1  ...   1747333.287         120941.239\n",
              "125  2007             1  ...   2061492.216         314158.929\n",
              "133  2008             1  ...   2230725.309         169233.093\n",
              "141  2009             1  ...   2585403.931         354678.622\n",
              "149  2010             1  ...   2967807.776         382403.845\n",
              "\n",
              "[15 rows x 12 columns]"
            ]
          },
          "metadata": {
            "tags": []
          },
          "execution_count": 29
        }
      ]
    },
    {
      "cell_type": "code",
      "metadata": {
        "colab": {
          "base_uri": "https://localhost:8080/"
        },
        "id": "hUm9LQJzB-de",
        "outputId": "6d20aedd-280f-488e-ed63-faa597745f02"
      },
      "source": [
        "# EF = EF.set_index('year')\n",
        "array = [i for i in range(1996, 2015)]\n",
        "# train = EF.loc[EF['year'] != 2014]\n",
        "train = EF.loc[EF['year'].isin(array)]\n",
        "test = EF.loc[EF['year'] == 2014]\n",
        "\n",
        "train['year'] = pd.to_datetime(train['year'], format='%Y')\n",
        "test['year'] = pd.to_datetime(test['year'], format='%Y')\n",
        "\n",
        "train = train.set_index('year') #set date as index\n",
        "test = test.set_index('year') #set date as index - needed for models to work\n",
        "\n",
        "X_train = train.drop(['carbon'], axis = 1)\n",
        "y_train = train['carbon']\n",
        "\n",
        "X_test = test.drop(['carbon'], axis = 1)\n",
        "y_test = test['carbon']\n",
        "\n",
        "\n"
      ],
      "execution_count": null,
      "outputs": [
        {
          "output_type": "stream",
          "text": [
            "/usr/local/lib/python3.6/dist-packages/ipykernel_launcher.py:7: SettingWithCopyWarning: \n",
            "A value is trying to be set on a copy of a slice from a DataFrame.\n",
            "Try using .loc[row_indexer,col_indexer] = value instead\n",
            "\n",
            "See the caveats in the documentation: https://pandas.pydata.org/pandas-docs/stable/user_guide/indexing.html#returning-a-view-versus-a-copy\n",
            "  import sys\n",
            "/usr/local/lib/python3.6/dist-packages/ipykernel_launcher.py:8: SettingWithCopyWarning: \n",
            "A value is trying to be set on a copy of a slice from a DataFrame.\n",
            "Try using .loc[row_indexer,col_indexer] = value instead\n",
            "\n",
            "See the caveats in the documentation: https://pandas.pydata.org/pandas-docs/stable/user_guide/indexing.html#returning-a-view-versus-a-copy\n",
            "  \n"
          ],
          "name": "stderr"
        }
      ]
    },
    {
      "cell_type": "code",
      "metadata": {
        "colab": {
          "base_uri": "https://localhost:8080/",
          "height": 314
        },
        "id": "d9emv_lmN8wR",
        "outputId": "553db8d4-b9d3-4030-a042-ddb82a4edded"
      },
      "source": [
        "from sklearn.model_selection import TimeSeriesSplit, cross_val_score\n",
        "from sklearn.ensemble import RandomForestRegressor\n",
        "from sklearn.neighbors import KNeighborsRegressor\n",
        "\n",
        "models = []\n",
        "models.append(('KNN', KNeighborsRegressor())) \n",
        "models.append(('RF', RandomForestRegressor(n_estimators = 18)))\n",
        "\n",
        "results = []\n",
        "names = []\n",
        "for name, model in models:\n",
        "  tscv = TimeSeriesSplit(n_splits=18)\n",
        "  cv_results = cross_val_score(model, X_train, y_train, cv=tscv, scoring='r2')\n",
        "  results.append(cv_results)\n",
        "  names.append(name)\n",
        "  print('%s: %f (%f)' % (name, cv_results.mean(), cv_results.std()))\n",
        "\n",
        "plt.boxplot(results, labels=names)\n",
        "plt.title('Algorithm Comparison')\n",
        "plt.show()"
      ],
      "execution_count": null,
      "outputs": [
        {
          "output_type": "stream",
          "text": [
            "KNN: 0.833240 (0.183631)\n",
            "RF: 0.646453 (0.717099)\n"
          ],
          "name": "stdout"
        },
        {
          "output_type": "display_data",
          "data": {
            "image/png": "[encoded data removed]",
            "text/plain": [
              "<Figure size 432x288 with 1 Axes>"
            ]
          },
          "metadata": {
            "tags": [],
            "needs_background": "light"
          }
        }
      ]
    },
    {
      "cell_type": "code",
      "metadata": {
        "id": "VhcoBHWFTy2q"
      },
      "source": [
        "# # from sklearn import preprocessing\n",
        "# from sklearn.preprocessing import MinMaxScaler\n",
        "# # X_train = preprocessing.scale(X_train) \n",
        "# # y_train = preprocessing.scale(y_train)\n",
        "\n",
        "# scaler = MinMaxScaler(copy = True, feature_range = (0, 1))\n",
        "# # X_train = scaler.fit_transform(X_train)\n",
        "# X_train = preprocessing.scale(X_train) \n",
        "# y_train = preprocessing.scale(y_train)\n"
      ],
      "execution_count": null,
      "outputs": []
    },
    {
      "cell_type": "code",
      "metadata": {
        "id": "iG2G_Ok8Q9GW"
      },
      "source": [
        "from sklearn.model_selection import GridSearchCV\n",
        "\n",
        "model = RandomForestRegressor()\n",
        "param_search = { \n",
        "    'n_estimators': [20, 50, 100],\n",
        "    # 'n_estimators': [36, 90, 180],\n",
        "    'max_features': ['auto', 'sqrt', 'log2'],\n",
        "    'max_depth' : [i for i in range(5,15)]\n",
        "}\n",
        "tscv = TimeSeriesSplit(n_splits=18)\n",
        "gsearch = GridSearchCV(estimator=model, cv=tscv, param_grid=param_search, scoring = 'r2')\n",
        "gsearch.fit(X_train, y_train)\n",
        "best_score = gsearch.best_score_\n",
        "best_model = gsearch.best_estimator_"
      ],
      "execution_count": null,
      "outputs": []
    },
    {
      "cell_type": "code",
      "metadata": {
        "id": "R-ao7WaSlhF_"
      },
      "source": [
        "y_true = y_test.values\n",
        "y_pred = best_model.predict(X_test)"
      ],
      "execution_count": null,
      "outputs": []
    },
    {
      "cell_type": "code",
      "metadata": {
        "colab": {
          "base_uri": "https://localhost:8080/",
          "height": 295
        },
        "id": "8c_zi_ScloJZ",
        "outputId": "606bebb8-34ad-4064-d7f8-d63363b04e34"
      },
      "source": [
        "import numpy as np\n",
        "\n",
        "imp = best_model.feature_importances_\n",
        "features = X_train.columns\n",
        "indices = np.argsort(imp)\n",
        "\n",
        "plt.title('Feature Importances')\n",
        "plt.barh(range(len(indices)), imp[indices], color='b', align='center')\n",
        "plt.yticks(range(len(indices)), [features[i] for i in indices])\n",
        "plt.xlabel('Relative Importance')\n",
        "plt.show()"
      ],
      "execution_count": null,
      "outputs": [
        {
          "output_type": "display_data",
          "data": {
            "image/png": "[encoded data removed]",
            "text/plain": [
              "<Figure size 432x288 with 1 Axes>"
            ]
          },
          "metadata": {
            "tags": [],
            "needs_background": "light"
          }
        }
      ]
    },
    {
      "cell_type": "code",
      "metadata": {
        "id": "Cc0mrk3tqPhw"
      },
      "source": [
        "X_train = X_train.drop(['carbonLastYear_Diff', 'carbon2Years_Diff', 'fishing_ground', 'built_up_land'], axis = 1)\n",
        "X_test = X_test.drop(['carbonLastYear_Diff', 'carbon2Years_Diff', 'fishing_ground', 'built_up_land'], axis = 1)"
      ],
      "execution_count": null,
      "outputs": []
    },
    {
      "cell_type": "code",
      "metadata": {
        "colab": {
          "base_uri": "https://localhost:8080/",
          "height": 314
        },
        "id": "qZHeJ1Yj4Puw",
        "outputId": "a831a286-545b-4760-a3f8-376afff0113f"
      },
      "source": [
        "from sklearn.model_selection import TimeSeriesSplit, cross_val_score\n",
        "from sklearn.ensemble import RandomForestRegressor\n",
        "from sklearn.neighbors import KNeighborsRegressor\n",
        "\n",
        "models = []\n",
        "models.append(('KNN', KNeighborsRegressor())) \n",
        "models.append(('RF', RandomForestRegressor(n_estimators = 18)))\n",
        "\n",
        "results = []\n",
        "names = []\n",
        "for name, model in models:\n",
        "  tscv = TimeSeriesSplit(n_splits=18)\n",
        "  cv_results = cross_val_score(model, X_train, y_train, cv=tscv, scoring='r2')\n",
        "  results.append(cv_results)\n",
        "  names.append(name)\n",
        "  print('%s: %f (%f)' % (name, cv_results.mean(), cv_results.std()))\n",
        "\n",
        "plt.boxplot(results, labels=names)\n",
        "plt.title('Algorithm Comparison')\n",
        "plt.show()"
      ],
      "execution_count": null,
      "outputs": [
        {
          "output_type": "stream",
          "text": [
            "KNN: 0.835500 (0.183156)\n",
            "RF: 0.638018 (0.868890)\n"
          ],
          "name": "stdout"
        },
        {
          "output_type": "display_data",
          "data": {
            "image/png": "[encoded data removed]",
            "text/plain": [
              "<Figure size 432x288 with 1 Axes>"
            ]
          },
          "metadata": {
            "tags": [],
            "needs_background": "light"
          }
        }
      ]
    },
    {
      "cell_type": "code",
      "metadata": {
        "colab": {
          "base_uri": "https://localhost:8080/"
        },
        "id": "IQNxoMhnUbde",
        "outputId": "a044e737-03ef-4781-b679-c8a8e78efb3b"
      },
      "source": [
        "from sklearn.metrics import confusion_matrix\n",
        "\n",
        "# RF = RandomForestRegressor(n_estimators = 18)\n",
        "KNN = KNeighborsRegressor()\n",
        "\n",
        "# y_true = y_test.values\n",
        "KNN.fit(X_train, y_train)\n",
        "y_pred = KNN.predict(X_test)\n",
        "\n",
        "print(\"Evaluation metrics of KNN: \", KNN.score(X_test, y_test))\n",
        "\n",
        "# confusion_matrix(y_pred, y_test) #No confusion matirx since output continous"
      ],
      "execution_count": null,
      "outputs": [
        {
          "output_type": "stream",
          "text": [
            "Evaluation metrics of KNN:  0.9985333792685952\n"
          ],
          "name": "stdout"
        }
      ]
    },
    {
      "cell_type": "code",
      "metadata": {
        "id": "DSSctUCFYNyR"
      },
      "source": [
        "# from sklearn import metrics\n",
        "# import matplotlib.pyplot as plt\n",
        "\n",
        "# metrics.plot_roc_curve(KNN, X_test, y_test)\n",
        "# # metrics.plot_roc_curve(clf, features_test, labels_test)\n",
        "\n",
        "# plt.show()"
      ],
      "execution_count": null,
      "outputs": []
    }
  ]
}